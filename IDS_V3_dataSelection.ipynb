{
  "nbformat": 4,
  "nbformat_minor": 0,
  "metadata": {
    "colab": {
      "provenance": [],
      "authorship_tag": "ABX9TyMTNW0nxxt2xdbHBDu2GVQg",
      "include_colab_link": true
    },
    "kernelspec": {
      "name": "python3",
      "display_name": "Python 3"
    },
    "language_info": {
      "name": "python"
    }
  },
  "cells": [
    {
      "cell_type": "markdown",
      "metadata": {
        "id": "view-in-github",
        "colab_type": "text"
      },
      "source": [
        "<a href=\"https://colab.research.google.com/github/SamarAboulEla/Anomaly-Detection/blob/main/IDS_V3_dataSelection.ipynb\" target=\"_parent\"><img src=\"https://colab.research.google.com/assets/colab-badge.svg\" alt=\"Open In Colab\"/></a>"
      ]
    },
    {
      "cell_type": "markdown",
      "source": [
        "\n",
        "**1.   Prepare Dataset**\n",
        "\n",
        "The machine learning CIC-IDS 2017 [https://www.unb.ca/cic/datasets/ids-2017.html] is provided by Canadian Institute for Cybersecurity. It consists of labeled data in 8 files. The data capturing period started at 9 a.m., Monday, July 3, 2017 and ended at 5 p.m. on Friday July 7, 2017, for a total of 5 days.\n",
        "\n",
        "*   Monday: normal network traffic\n",
        "*   Tuesday to Friday: intrusion traffic for variuos types of attacks such as Brute Force FTP, Brute Force SSH, DoS, Heartbleed, Web Attack, Infiltration, Botnet and DDoS.\n",
        "\n",
        "The number of data points is approximately 3.3 millions. In our experiments, we will select 10K random points from each data file. So our dataset will have 80K data points."
      ],
      "metadata": {
        "id": "33uODMQQ2nKK"
      }
    },
    {
      "cell_type": "code",
      "source": [
        "from google.colab import drive\n",
        "drive.mount('/content/drive')"
      ],
      "metadata": {
        "colab": {
          "base_uri": "https://localhost:8080/"
        },
        "id": "PACj7bWt4eTE",
        "outputId": "4a3cd1e4-0b71-4ef0-bb77-fce3430bc6a7"
      },
      "execution_count": null,
      "outputs": [
        {
          "output_type": "stream",
          "name": "stdout",
          "text": [
            "Mounted at /content/drive\n"
          ]
        }
      ]
    },
    {
      "cell_type": "code",
      "source": [
        "import numpy as np\n",
        "import pandas as pd\n",
        "import random\n",
        "import matplotlib.pyplot as plt\n",
        "from mpl_toolkits.mplot3d import Axes3D\n",
        "from math import exp\n",
        "\n",
        "df_1 = pd.read_csv('/content/drive/My Drive/Colab Notebooks/data/1-Monday-WorkingHours.pcap_ISCX.csv')\n",
        "df_2 = pd.read_csv('/content/drive/My Drive/Colab Notebooks/data/2-Tuesday-WorkingHours.pcap_ISCX.csv')\n",
        "df_3 = pd.read_csv('/content/drive/My Drive/Colab Notebooks/data/3-Wednesday-workingHours.pcap_ISCX.csv')\n",
        "df_4 = pd.read_csv('/content/drive/My Drive/Colab Notebooks/data/4-Thursday-WorkingHours-Morning-WebAttacks.pcap_ISCX.csv')\n",
        "\n",
        "\n",
        "df_1.head();df_2.head();df_3.head();df_4.head();"
      ],
      "metadata": {
        "id": "VNB9tsAS5_KH"
      },
      "execution_count": null,
      "outputs": []
    },
    {
      "cell_type": "code",
      "source": [
        "df_5 = pd.read_csv('/content/drive/My Drive/Colab Notebooks/data/5-Thursday-WorkingHours-Afternoon-Infilteration.pcap_ISCX.csv')\n",
        "df_6 = pd.read_csv('/content/drive/My Drive/Colab Notebooks/data/6-Friday-WorkingHours-Morning.pcap_ISCX.csv')\n",
        "df_7 = pd.read_csv('/content/drive/My Drive/Colab Notebooks/data/7-Friday-WorkingHours-Afternoon-DDos.pcap_ISCX.csv')\n",
        "df_8 = pd.read_csv('/content/drive/My Drive/Colab Notebooks/data/8-Friday-WorkingHours-Afternoon-PortScan.pcap_ISCX.csv')\n",
        "\n",
        "df_5.head();df_6.head();df_7.head();df_8.head();"
      ],
      "metadata": {
        "id": "lwI_SISlBtQt"
      },
      "execution_count": null,
      "outputs": []
    },
    {
      "cell_type": "code",
      "source": [
        "import pandas as pd\n",
        "import random\n",
        "\n",
        "# List of DataFrames\n",
        "data_frames = [df_1, df_2, df_3, df_4, df_5, df_6, df_7, df_8]\n",
        "\n",
        "# Number of random points to select from each file\n",
        "num_points_to_select = 10000\n",
        "#The seed for random_state argument ensures that the random selection will be reproducible\n",
        "seed = 17\n",
        "\n",
        "# List to store randomly selected points from all files\n",
        "random_points_list = []\n",
        "\n",
        "# Loop through each DataFrame\n",
        "for df in data_frames:\n",
        "\n",
        "    # Drop rows with NaN values\n",
        "    df.dropna(inplace=True)\n",
        "\n",
        "    # get some insights for the dataset\n",
        "    df.describe()\n",
        "\n",
        "    # Select random rows from the data\n",
        "    random_rows = df.sample(n=num_points_to_select, random_state=seed)\n",
        "\n",
        "    # Append the randomly selected rows to the list\n",
        "    random_points_list.append(random_rows)\n",
        "\n",
        "# Concatenate all the randomly selected rows into one DataFrame\n",
        "random_points_df = pd.concat(random_points_list)\n"
      ],
      "metadata": {
        "id": "8NdFs4FX-5X_"
      },
      "execution_count": null,
      "outputs": []
    },
    {
      "cell_type": "code",
      "source": [
        "# Save all the random points to one CSV file\n",
        "output_file = '/content/drive/My Drive/Colab Notebooks/data/CIC_IDS_2017_80K_Random_Points_17.csv'\n",
        "random_points_df.to_csv(output_file, index=False)\n"
      ],
      "metadata": {
        "id": "yOtVgHW6GOBU"
      },
      "execution_count": null,
      "outputs": []
    },
    {
      "cell_type": "code",
      "source": [
        "#run this code later - at the end of using google drive\n",
        "\n",
        "drive.flush_and_unmount()\n",
        "print('All changes made in this colab session should now be visible in Drive.')"
      ],
      "metadata": {
        "colab": {
          "base_uri": "https://localhost:8080/"
        },
        "id": "VeZ1BupZEaT-",
        "outputId": "60336071-9a50-4dd6-e4fd-42f7ef804487"
      },
      "execution_count": null,
      "outputs": [
        {
          "output_type": "stream",
          "name": "stdout",
          "text": [
            "All changes made in this colab session should now be visible in Drive.\n"
          ]
        }
      ]
    }
  ]
}